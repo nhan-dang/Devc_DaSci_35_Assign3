{
  "nbformat": 4,
  "nbformat_minor": 0,
  "metadata": {
    "colab": {
      "name": "Copy of Assignment_3_EDA.ipynb",
      "version": "0.3.2",
      "provenance": [],
      "collapsed_sections": []
    },
    "language_info": {
      "codemirror_mode": {
        "name": "ipython",
        "version": 3
      },
      "file_extension": ".py",
      "mimetype": "text/x-python",
      "name": "python",
      "nbconvert_exporter": "python",
      "pygments_lexer": "ipython3",
      "version": "3.6.5"
    },
    "kernelspec": {
      "name": "python3",
      "display_name": "Python 3"
    },
    "accelerator": "GPU"
  },
  "cells": [
    {
      "cell_type": "markdown",
      "metadata": {
        "id": "x7fdTGs4SnyS",
        "colab_type": "text"
      },
      "source": [
        "![](https://i.imgur.com/0AUxkXt.png)"
      ]
    },
    {
      "cell_type": "markdown",
      "metadata": {
        "id": "_uqy69P0Pm0L",
        "colab_type": "text"
      },
      "source": [
        "# Assignment 3 - From data to insights\n",
        "\n",
        "Before you explore the data, write down a short list of what you expect to see in the data: the distribution of key variables, the relationships between important pairs of them, and so on. Such a list is essentially a prediction based on your current understanding of the business.\n",
        "\n",
        "Now analyze the data. Make plots, do summaries, whatever is needed to see if it matches your expectations.\n",
        "\n",
        "Is there anything that doesn’t match? Anything that makes you go “That’s odd” or “That doesn’t make any sense.”?\n",
        "\n",
        "Zoom in and try to understand what in your business is making that weird thing show up in the data like that. This is the critical step.\n",
        "\n",
        "You may have just found an insight into the business and increased your understanding\n",
        "\n",
        "\n",
        "## The data analysis checklist\n",
        "\n",
        "This checklist can be used as a guide during the process of a data analysis, or as a way to evaluate the quality of a reported data analysis.\n",
        "\n",
        "### Answering the first questions\n",
        "\n",
        "1. Did you define the metric for success before beginning?\n",
        "2. Did you understand the context for the question and business application?\n",
        "3. Did you consider whether the question could be answered with the available data?\n",
        "\n",
        "### Cleaning the data\n",
        "\n",
        "1. Did you identify the missing data?\n",
        "2. Is each variable one column?\n",
        "3. Do different data types appear in each table?\n",
        "4. Did you try to identify any errors or miscoding of variables?\n",
        "5. Did you check for outliers?\n",
        "\n",
        "### Exploratory analysis\n",
        "\n",
        "1. Did you make univariate plots (histogram, distplot, boxplot)?\n",
        "2. Did you consider correlations between variables (scatterplot, jointplot, kde plot, correlation matrix)?\n",
        "3. Did you check the units of all data points to make sure they are in the right range?\n",
        "\n",
        "### Presentations\n",
        "\n",
        "1. Did you lead with a brief, understandable to everyone of your problem?\n",
        "2. Did you explain the data, describe the question of interest?\n",
        "3. Did you make sure all legends and axes were legible from the back of the room?"
      ]
    },
    {
      "cell_type": "markdown",
      "metadata": {
        "id": "ZBc0glanPm0M",
        "colab_type": "text"
      },
      "source": [
        "## Dataset - Online Retailes Purchase\n",
        "\n",
        "Typically e-commerce datasets are proprietary and consequently hard to find among publicly available data. However, [The UCI Machine Learning Repository](http://archive.ics.uci.edu/ml/index.php) has made this dataset containing actual transactions from 2010 and 2011. The dataset is maintained on their site, where it can be found by the title \"Online Retail\".\n",
        "\n",
        "\n",
        "### Step 1 - Checking the data\n",
        "\n",
        "**Import tools set**"
      ]
    },
    {
      "cell_type": "code",
      "metadata": {
        "id": "9Cx3LXxfPm0N",
        "colab_type": "code",
        "colab": {}
      },
      "source": [
        "# Your code here\n",
        "import numpy as np\n",
        "import pandas as pd\n",
        "import seaborn as sns\n",
        "import matplotlib.pyplot as plt\n",
        "%matplotlib inline\n",
        "import warnings\n",
        "warnings.filterwarnings('ignore')\n",
        "\n",
        "sns.set_style(\"whitegrid\")"
      ],
      "execution_count": 0,
      "outputs": []
    },
    {
      "cell_type": "markdown",
      "metadata": {
        "id": "mFTQu0j6Pm0Q",
        "colab_type": "text"
      },
      "source": [
        "**Import data**"
      ]
    },
    {
      "cell_type": "code",
      "metadata": {
        "id": "w0YVchrVPm0R",
        "colab_type": "code",
        "colab": {}
      },
      "source": [
        "link = \"https://raw.githubusercontent.com/guipsamora/pandas_exercises/master/07_Visualization/Online_Retail/Online_Retail.csv\"\n",
        "# Note: set param encoding = 'latin1'\n",
        "# Your code here\n",
        "ordata = pd.read_csv(link, encoding = 'latin1')"
      ],
      "execution_count": 0,
      "outputs": []
    },
    {
      "cell_type": "code",
      "metadata": {
        "id": "V3v8D3pTFrYh",
        "colab_type": "code",
        "outputId": "3c990a8b-22da-4e6b-9dd3-06df3ba34af1",
        "colab": {
          "base_uri": "https://localhost:8080/",
          "height": 206
        }
      },
      "source": [
        "# Print out First 5 rows from dataframe\n",
        "# Your code here\n",
        "ordata.head()"
      ],
      "execution_count": 3,
      "outputs": [
        {
          "output_type": "execute_result",
          "data": {
            "text/html": [
              "<div>\n",
              "<style scoped>\n",
              "    .dataframe tbody tr th:only-of-type {\n",
              "        vertical-align: middle;\n",
              "    }\n",
              "\n",
              "    .dataframe tbody tr th {\n",
              "        vertical-align: top;\n",
              "    }\n",
              "\n",
              "    .dataframe thead th {\n",
              "        text-align: right;\n",
              "    }\n",
              "</style>\n",
              "<table border=\"1\" class=\"dataframe\">\n",
              "  <thead>\n",
              "    <tr style=\"text-align: right;\">\n",
              "      <th></th>\n",
              "      <th>InvoiceNo</th>\n",
              "      <th>StockCode</th>\n",
              "      <th>Description</th>\n",
              "      <th>Quantity</th>\n",
              "      <th>InvoiceDate</th>\n",
              "      <th>UnitPrice</th>\n",
              "      <th>CustomerID</th>\n",
              "      <th>Country</th>\n",
              "    </tr>\n",
              "  </thead>\n",
              "  <tbody>\n",
              "    <tr>\n",
              "      <th>0</th>\n",
              "      <td>536365</td>\n",
              "      <td>85123A</td>\n",
              "      <td>WHITE HANGING HEART T-LIGHT HOLDER</td>\n",
              "      <td>6</td>\n",
              "      <td>12/1/10 8:26</td>\n",
              "      <td>2.55</td>\n",
              "      <td>17850.0</td>\n",
              "      <td>United Kingdom</td>\n",
              "    </tr>\n",
              "    <tr>\n",
              "      <th>1</th>\n",
              "      <td>536365</td>\n",
              "      <td>71053</td>\n",
              "      <td>WHITE METAL LANTERN</td>\n",
              "      <td>6</td>\n",
              "      <td>12/1/10 8:26</td>\n",
              "      <td>3.39</td>\n",
              "      <td>17850.0</td>\n",
              "      <td>United Kingdom</td>\n",
              "    </tr>\n",
              "    <tr>\n",
              "      <th>2</th>\n",
              "      <td>536365</td>\n",
              "      <td>84406B</td>\n",
              "      <td>CREAM CUPID HEARTS COAT HANGER</td>\n",
              "      <td>8</td>\n",
              "      <td>12/1/10 8:26</td>\n",
              "      <td>2.75</td>\n",
              "      <td>17850.0</td>\n",
              "      <td>United Kingdom</td>\n",
              "    </tr>\n",
              "    <tr>\n",
              "      <th>3</th>\n",
              "      <td>536365</td>\n",
              "      <td>84029G</td>\n",
              "      <td>KNITTED UNION FLAG HOT WATER BOTTLE</td>\n",
              "      <td>6</td>\n",
              "      <td>12/1/10 8:26</td>\n",
              "      <td>3.39</td>\n",
              "      <td>17850.0</td>\n",
              "      <td>United Kingdom</td>\n",
              "    </tr>\n",
              "    <tr>\n",
              "      <th>4</th>\n",
              "      <td>536365</td>\n",
              "      <td>84029E</td>\n",
              "      <td>RED WOOLLY HOTTIE WHITE HEART.</td>\n",
              "      <td>6</td>\n",
              "      <td>12/1/10 8:26</td>\n",
              "      <td>3.39</td>\n",
              "      <td>17850.0</td>\n",
              "      <td>United Kingdom</td>\n",
              "    </tr>\n",
              "  </tbody>\n",
              "</table>\n",
              "</div>"
            ],
            "text/plain": [
              "  InvoiceNo StockCode  ... CustomerID         Country\n",
              "0    536365    85123A  ...    17850.0  United Kingdom\n",
              "1    536365     71053  ...    17850.0  United Kingdom\n",
              "2    536365    84406B  ...    17850.0  United Kingdom\n",
              "3    536365    84029G  ...    17850.0  United Kingdom\n",
              "4    536365    84029E  ...    17850.0  United Kingdom\n",
              "\n",
              "[5 rows x 8 columns]"
            ]
          },
          "metadata": {
            "tags": []
          },
          "execution_count": 3
        }
      ]
    },
    {
      "cell_type": "code",
      "metadata": {
        "id": "u4Msf54uFy4w",
        "colab_type": "code",
        "outputId": "0260e35d-6c90-4a8a-f519-9ceee17bb91a",
        "colab": {
          "base_uri": "https://localhost:8080/",
          "height": 256
        }
      },
      "source": [
        "# Print out brief info\n",
        "ordata.info()"
      ],
      "execution_count": 4,
      "outputs": [
        {
          "output_type": "stream",
          "text": [
            "<class 'pandas.core.frame.DataFrame'>\n",
            "RangeIndex: 541909 entries, 0 to 541908\n",
            "Data columns (total 8 columns):\n",
            "InvoiceNo      541909 non-null object\n",
            "StockCode      541909 non-null object\n",
            "Description    540455 non-null object\n",
            "Quantity       541909 non-null int64\n",
            "InvoiceDate    541909 non-null object\n",
            "UnitPrice      541909 non-null float64\n",
            "CustomerID     406829 non-null float64\n",
            "Country        541909 non-null object\n",
            "dtypes: float64(2), int64(1), object(5)\n",
            "memory usage: 33.1+ MB\n"
          ],
          "name": "stdout"
        }
      ]
    },
    {
      "cell_type": "markdown",
      "metadata": {
        "id": "wY6yv3UsPm0k",
        "colab_type": "text"
      },
      "source": [
        "### Step 2 - Cleaning the data\n",
        "\n",
        "Few of useful data cleaning functions:\n",
        "\n",
        "* `s.astype('category')` # This will convert the datatype of the series to float *Please note that \"s\" here is a Pandas Series\n",
        "\n",
        "* `s.replace(1,'one')` # This will replace all values equal to 1 with 'one'\n",
        "\n",
        "* `s.replace([1,3],['one','three'])` # This will replace all 1 with 'one' and 3 with 'three'\n",
        "\n",
        "* `data.rename(columns=lambda x: x + 1)` # Mass renaming of columns\n",
        "\n",
        "* `data.rename(columns={'oldname': 'new name'})` # Selective renaming\n",
        "\n",
        "* `data.set_index('column_one')` #  This will change the index\n",
        "\n",
        "* `data.rename(index=lambda x: x + 1)` # Mass renaming of index\n",
        "\n",
        "* `data.dropna()` # Remove missing values\n",
        "\n",
        "* `data.fillna(x)` #  This will replaces all null values with x\n",
        "\n",
        "* `s.fillna(s.mean())` # This will replace all null values with the mean (mean can be replaced with almost any function from the below section) :\n",
        "\n",
        "* `data.corr()` # This will return the correlation between columns in a DataFrame\n",
        "\n",
        "* `data.count()` # This will return the number of non-null values in each DataFrame column\n",
        "\n",
        "* `data.max()` # This will return the highest value in each column\n",
        "\n",
        "* `data.min()` # This will return the lowest value in each column\n",
        "\n",
        "* `data.median()` # This will return the median of each column\n",
        "\n",
        "* `data.std()` # This will returns the standard deviation of each column\n"
      ]
    },
    {
      "cell_type": "markdown",
      "metadata": {
        "id": "rcNsGWarPm06",
        "colab_type": "text"
      },
      "source": [
        "**Check for NaN values**"
      ]
    },
    {
      "cell_type": "code",
      "metadata": {
        "id": "TqLxHGy2Pm06",
        "colab_type": "code",
        "outputId": "f4db0f0d-5f2d-429c-c3d3-8e7351aac960",
        "colab": {
          "base_uri": "https://localhost:8080/",
          "height": 182
        }
      },
      "source": [
        "# Your code here\n",
        "ordata.isnull().sum()"
      ],
      "execution_count": 5,
      "outputs": [
        {
          "output_type": "execute_result",
          "data": {
            "text/plain": [
              "InvoiceNo           0\n",
              "StockCode           0\n",
              "Description      1454\n",
              "Quantity            0\n",
              "InvoiceDate         0\n",
              "UnitPrice           0\n",
              "CustomerID     135080\n",
              "Country             0\n",
              "dtype: int64"
            ]
          },
          "metadata": {
            "tags": []
          },
          "execution_count": 5
        }
      ]
    },
    {
      "cell_type": "markdown",
      "metadata": {
        "id": "RdhPk_x1Pm0-",
        "colab_type": "text"
      },
      "source": [
        "**Examine few examples of NaN values**"
      ]
    },
    {
      "cell_type": "code",
      "metadata": {
        "id": "3kGYpbdOPm0-",
        "colab_type": "code",
        "outputId": "2aebb0ec-01eb-482b-ef08-e42f5acd34f7",
        "colab": {
          "base_uri": "https://localhost:8080/",
          "height": 1000
        }
      },
      "source": [
        "# List all NaN values\n",
        "'''\n",
        "The lazy way to do is to use built in function\n",
        "'''\n",
        "ordata[ordata.isna().any(axis=1)]"
      ],
      "execution_count": 6,
      "outputs": [
        {
          "output_type": "execute_result",
          "data": {
            "text/html": [
              "<div>\n",
              "<style scoped>\n",
              "    .dataframe tbody tr th:only-of-type {\n",
              "        vertical-align: middle;\n",
              "    }\n",
              "\n",
              "    .dataframe tbody tr th {\n",
              "        vertical-align: top;\n",
              "    }\n",
              "\n",
              "    .dataframe thead th {\n",
              "        text-align: right;\n",
              "    }\n",
              "</style>\n",
              "<table border=\"1\" class=\"dataframe\">\n",
              "  <thead>\n",
              "    <tr style=\"text-align: right;\">\n",
              "      <th></th>\n",
              "      <th>InvoiceNo</th>\n",
              "      <th>StockCode</th>\n",
              "      <th>Description</th>\n",
              "      <th>Quantity</th>\n",
              "      <th>InvoiceDate</th>\n",
              "      <th>UnitPrice</th>\n",
              "      <th>CustomerID</th>\n",
              "      <th>Country</th>\n",
              "    </tr>\n",
              "  </thead>\n",
              "  <tbody>\n",
              "    <tr>\n",
              "      <th>622</th>\n",
              "      <td>536414</td>\n",
              "      <td>22139</td>\n",
              "      <td>NaN</td>\n",
              "      <td>56</td>\n",
              "      <td>12/1/10 11:52</td>\n",
              "      <td>0.00</td>\n",
              "      <td>NaN</td>\n",
              "      <td>United Kingdom</td>\n",
              "    </tr>\n",
              "    <tr>\n",
              "      <th>1443</th>\n",
              "      <td>536544</td>\n",
              "      <td>21773</td>\n",
              "      <td>DECORATIVE ROSE BATHROOM BOTTLE</td>\n",
              "      <td>1</td>\n",
              "      <td>12/1/10 14:32</td>\n",
              "      <td>2.51</td>\n",
              "      <td>NaN</td>\n",
              "      <td>United Kingdom</td>\n",
              "    </tr>\n",
              "    <tr>\n",
              "      <th>1444</th>\n",
              "      <td>536544</td>\n",
              "      <td>21774</td>\n",
              "      <td>DECORATIVE CATS BATHROOM BOTTLE</td>\n",
              "      <td>2</td>\n",
              "      <td>12/1/10 14:32</td>\n",
              "      <td>2.51</td>\n",
              "      <td>NaN</td>\n",
              "      <td>United Kingdom</td>\n",
              "    </tr>\n",
              "    <tr>\n",
              "      <th>1445</th>\n",
              "      <td>536544</td>\n",
              "      <td>21786</td>\n",
              "      <td>POLKADOT RAIN HAT</td>\n",
              "      <td>4</td>\n",
              "      <td>12/1/10 14:32</td>\n",
              "      <td>0.85</td>\n",
              "      <td>NaN</td>\n",
              "      <td>United Kingdom</td>\n",
              "    </tr>\n",
              "    <tr>\n",
              "      <th>1446</th>\n",
              "      <td>536544</td>\n",
              "      <td>21787</td>\n",
              "      <td>RAIN PONCHO RETROSPOT</td>\n",
              "      <td>2</td>\n",
              "      <td>12/1/10 14:32</td>\n",
              "      <td>1.66</td>\n",
              "      <td>NaN</td>\n",
              "      <td>United Kingdom</td>\n",
              "    </tr>\n",
              "    <tr>\n",
              "      <th>1447</th>\n",
              "      <td>536544</td>\n",
              "      <td>21790</td>\n",
              "      <td>VINTAGE SNAP CARDS</td>\n",
              "      <td>9</td>\n",
              "      <td>12/1/10 14:32</td>\n",
              "      <td>1.66</td>\n",
              "      <td>NaN</td>\n",
              "      <td>United Kingdom</td>\n",
              "    </tr>\n",
              "    <tr>\n",
              "      <th>1448</th>\n",
              "      <td>536544</td>\n",
              "      <td>21791</td>\n",
              "      <td>VINTAGE HEADS AND TAILS CARD GAME</td>\n",
              "      <td>2</td>\n",
              "      <td>12/1/10 14:32</td>\n",
              "      <td>2.51</td>\n",
              "      <td>NaN</td>\n",
              "      <td>United Kingdom</td>\n",
              "    </tr>\n",
              "    <tr>\n",
              "      <th>1449</th>\n",
              "      <td>536544</td>\n",
              "      <td>21801</td>\n",
              "      <td>CHRISTMAS TREE DECORATION WITH BELL</td>\n",
              "      <td>10</td>\n",
              "      <td>12/1/10 14:32</td>\n",
              "      <td>0.43</td>\n",
              "      <td>NaN</td>\n",
              "      <td>United Kingdom</td>\n",
              "    </tr>\n",
              "    <tr>\n",
              "      <th>1450</th>\n",
              "      <td>536544</td>\n",
              "      <td>21802</td>\n",
              "      <td>CHRISTMAS TREE HEART DECORATION</td>\n",
              "      <td>9</td>\n",
              "      <td>12/1/10 14:32</td>\n",
              "      <td>0.43</td>\n",
              "      <td>NaN</td>\n",
              "      <td>United Kingdom</td>\n",
              "    </tr>\n",
              "    <tr>\n",
              "      <th>1451</th>\n",
              "      <td>536544</td>\n",
              "      <td>21803</td>\n",
              "      <td>CHRISTMAS TREE STAR DECORATION</td>\n",
              "      <td>11</td>\n",
              "      <td>12/1/10 14:32</td>\n",
              "      <td>0.43</td>\n",
              "      <td>NaN</td>\n",
              "      <td>United Kingdom</td>\n",
              "    </tr>\n",
              "    <tr>\n",
              "      <th>1452</th>\n",
              "      <td>536544</td>\n",
              "      <td>21809</td>\n",
              "      <td>CHRISTMAS HANGING TREE WITH BELL</td>\n",
              "      <td>1</td>\n",
              "      <td>12/1/10 14:32</td>\n",
              "      <td>2.51</td>\n",
              "      <td>NaN</td>\n",
              "      <td>United Kingdom</td>\n",
              "    </tr>\n",
              "    <tr>\n",
              "      <th>1453</th>\n",
              "      <td>536544</td>\n",
              "      <td>21810</td>\n",
              "      <td>CHRISTMAS HANGING STAR WITH BELL</td>\n",
              "      <td>3</td>\n",
              "      <td>12/1/10 14:32</td>\n",
              "      <td>2.51</td>\n",
              "      <td>NaN</td>\n",
              "      <td>United Kingdom</td>\n",
              "    </tr>\n",
              "    <tr>\n",
              "      <th>1454</th>\n",
              "      <td>536544</td>\n",
              "      <td>21811</td>\n",
              "      <td>CHRISTMAS HANGING HEART WITH BELL</td>\n",
              "      <td>1</td>\n",
              "      <td>12/1/10 14:32</td>\n",
              "      <td>2.51</td>\n",
              "      <td>NaN</td>\n",
              "      <td>United Kingdom</td>\n",
              "    </tr>\n",
              "    <tr>\n",
              "      <th>1455</th>\n",
              "      <td>536544</td>\n",
              "      <td>21821</td>\n",
              "      <td>GLITTER STAR GARLAND WITH BELLS</td>\n",
              "      <td>1</td>\n",
              "      <td>12/1/10 14:32</td>\n",
              "      <td>7.62</td>\n",
              "      <td>NaN</td>\n",
              "      <td>United Kingdom</td>\n",
              "    </tr>\n",
              "    <tr>\n",
              "      <th>1456</th>\n",
              "      <td>536544</td>\n",
              "      <td>21822</td>\n",
              "      <td>GLITTER CHRISTMAS TREE WITH BELLS</td>\n",
              "      <td>1</td>\n",
              "      <td>12/1/10 14:32</td>\n",
              "      <td>4.21</td>\n",
              "      <td>NaN</td>\n",
              "      <td>United Kingdom</td>\n",
              "    </tr>\n",
              "    <tr>\n",
              "      <th>1457</th>\n",
              "      <td>536544</td>\n",
              "      <td>21823</td>\n",
              "      <td>PAINTED METAL HEART WITH HOLLY BELL</td>\n",
              "      <td>2</td>\n",
              "      <td>12/1/10 14:32</td>\n",
              "      <td>2.98</td>\n",
              "      <td>NaN</td>\n",
              "      <td>United Kingdom</td>\n",
              "    </tr>\n",
              "    <tr>\n",
              "      <th>1458</th>\n",
              "      <td>536544</td>\n",
              "      <td>21844</td>\n",
              "      <td>RED RETROSPOT MUG</td>\n",
              "      <td>2</td>\n",
              "      <td>12/1/10 14:32</td>\n",
              "      <td>5.91</td>\n",
              "      <td>NaN</td>\n",
              "      <td>United Kingdom</td>\n",
              "    </tr>\n",
              "    <tr>\n",
              "      <th>1459</th>\n",
              "      <td>536544</td>\n",
              "      <td>21851</td>\n",
              "      <td>LILAC DIAMANTE PEN IN GIFT BOX</td>\n",
              "      <td>1</td>\n",
              "      <td>12/1/10 14:32</td>\n",
              "      <td>4.21</td>\n",
              "      <td>NaN</td>\n",
              "      <td>United Kingdom</td>\n",
              "    </tr>\n",
              "    <tr>\n",
              "      <th>1460</th>\n",
              "      <td>536544</td>\n",
              "      <td>21870</td>\n",
              "      <td>I CAN ONLY PLEASE ONE PERSON MUG</td>\n",
              "      <td>1</td>\n",
              "      <td>12/1/10 14:32</td>\n",
              "      <td>3.36</td>\n",
              "      <td>NaN</td>\n",
              "      <td>United Kingdom</td>\n",
              "    </tr>\n",
              "    <tr>\n",
              "      <th>1461</th>\n",
              "      <td>536544</td>\n",
              "      <td>21871</td>\n",
              "      <td>SAVE THE PLANET MUG</td>\n",
              "      <td>5</td>\n",
              "      <td>12/1/10 14:32</td>\n",
              "      <td>3.36</td>\n",
              "      <td>NaN</td>\n",
              "      <td>United Kingdom</td>\n",
              "    </tr>\n",
              "    <tr>\n",
              "      <th>1462</th>\n",
              "      <td>536544</td>\n",
              "      <td>21874</td>\n",
              "      <td>GIN AND TONIC MUG</td>\n",
              "      <td>1</td>\n",
              "      <td>12/1/10 14:32</td>\n",
              "      <td>3.36</td>\n",
              "      <td>NaN</td>\n",
              "      <td>United Kingdom</td>\n",
              "    </tr>\n",
              "    <tr>\n",
              "      <th>1463</th>\n",
              "      <td>536544</td>\n",
              "      <td>21879</td>\n",
              "      <td>HEARTS GIFT TAPE</td>\n",
              "      <td>1</td>\n",
              "      <td>12/1/10 14:32</td>\n",
              "      <td>1.66</td>\n",
              "      <td>NaN</td>\n",
              "      <td>United Kingdom</td>\n",
              "    </tr>\n",
              "    <tr>\n",
              "      <th>1464</th>\n",
              "      <td>536544</td>\n",
              "      <td>21884</td>\n",
              "      <td>CAKES AND BOWS GIFT  TAPE</td>\n",
              "      <td>1</td>\n",
              "      <td>12/1/10 14:32</td>\n",
              "      <td>1.66</td>\n",
              "      <td>NaN</td>\n",
              "      <td>United Kingdom</td>\n",
              "    </tr>\n",
              "    <tr>\n",
              "      <th>1465</th>\n",
              "      <td>536544</td>\n",
              "      <td>21888</td>\n",
              "      <td>BINGO SET</td>\n",
              "      <td>1</td>\n",
              "      <td>12/1/10 14:32</td>\n",
              "      <td>7.62</td>\n",
              "      <td>NaN</td>\n",
              "      <td>United Kingdom</td>\n",
              "    </tr>\n",
              "    <tr>\n",
              "      <th>1466</th>\n",
              "      <td>536544</td>\n",
              "      <td>21889</td>\n",
              "      <td>WOODEN BOX OF DOMINOES</td>\n",
              "      <td>2</td>\n",
              "      <td>12/1/10 14:32</td>\n",
              "      <td>2.51</td>\n",
              "      <td>NaN</td>\n",
              "      <td>United Kingdom</td>\n",
              "    </tr>\n",
              "    <tr>\n",
              "      <th>1467</th>\n",
              "      <td>536544</td>\n",
              "      <td>21892</td>\n",
              "      <td>TRADITIONAL WOODEN CATCH CUP GAME</td>\n",
              "      <td>3</td>\n",
              "      <td>12/1/10 14:32</td>\n",
              "      <td>2.51</td>\n",
              "      <td>NaN</td>\n",
              "      <td>United Kingdom</td>\n",
              "    </tr>\n",
              "    <tr>\n",
              "      <th>1468</th>\n",
              "      <td>536544</td>\n",
              "      <td>21894</td>\n",
              "      <td>POTTING SHED SEED ENVELOPES</td>\n",
              "      <td>1</td>\n",
              "      <td>12/1/10 14:32</td>\n",
              "      <td>2.51</td>\n",
              "      <td>NaN</td>\n",
              "      <td>United Kingdom</td>\n",
              "    </tr>\n",
              "    <tr>\n",
              "      <th>1469</th>\n",
              "      <td>536544</td>\n",
              "      <td>21911</td>\n",
              "      <td>GARDEN METAL SIGN</td>\n",
              "      <td>1</td>\n",
              "      <td>12/1/10 14:32</td>\n",
              "      <td>3.36</td>\n",
              "      <td>NaN</td>\n",
              "      <td>United Kingdom</td>\n",
              "    </tr>\n",
              "    <tr>\n",
              "      <th>1470</th>\n",
              "      <td>536544</td>\n",
              "      <td>21912</td>\n",
              "      <td>VINTAGE SNAKES &amp; LADDERS</td>\n",
              "      <td>3</td>\n",
              "      <td>12/1/10 14:32</td>\n",
              "      <td>7.62</td>\n",
              "      <td>NaN</td>\n",
              "      <td>United Kingdom</td>\n",
              "    </tr>\n",
              "    <tr>\n",
              "      <th>1471</th>\n",
              "      <td>536544</td>\n",
              "      <td>21913</td>\n",
              "      <td>VINTAGE SEASIDE JIGSAW PUZZLES</td>\n",
              "      <td>1</td>\n",
              "      <td>12/1/10 14:32</td>\n",
              "      <td>7.62</td>\n",
              "      <td>NaN</td>\n",
              "      <td>United Kingdom</td>\n",
              "    </tr>\n",
              "    <tr>\n",
              "      <th>...</th>\n",
              "      <td>...</td>\n",
              "      <td>...</td>\n",
              "      <td>...</td>\n",
              "      <td>...</td>\n",
              "      <td>...</td>\n",
              "      <td>...</td>\n",
              "      <td>...</td>\n",
              "      <td>...</td>\n",
              "    </tr>\n",
              "    <tr>\n",
              "      <th>541511</th>\n",
              "      <td>581498</td>\n",
              "      <td>71053</td>\n",
              "      <td>WHITE MOROCCAN METAL LANTERN</td>\n",
              "      <td>1</td>\n",
              "      <td>12/9/11 10:26</td>\n",
              "      <td>8.29</td>\n",
              "      <td>NaN</td>\n",
              "      <td>United Kingdom</td>\n",
              "    </tr>\n",
              "    <tr>\n",
              "      <th>541512</th>\n",
              "      <td>581498</td>\n",
              "      <td>72349b</td>\n",
              "      <td>SET/6 PURPLE BUTTERFLY T-LIGHTS</td>\n",
              "      <td>2</td>\n",
              "      <td>12/9/11 10:26</td>\n",
              "      <td>4.13</td>\n",
              "      <td>NaN</td>\n",
              "      <td>United Kingdom</td>\n",
              "    </tr>\n",
              "    <tr>\n",
              "      <th>541513</th>\n",
              "      <td>581498</td>\n",
              "      <td>79321</td>\n",
              "      <td>CHILLI LIGHTS</td>\n",
              "      <td>10</td>\n",
              "      <td>12/9/11 10:26</td>\n",
              "      <td>12.46</td>\n",
              "      <td>NaN</td>\n",
              "      <td>United Kingdom</td>\n",
              "    </tr>\n",
              "    <tr>\n",
              "      <th>541514</th>\n",
              "      <td>581498</td>\n",
              "      <td>82001s</td>\n",
              "      <td>SILVER RECORD COVER FRAME</td>\n",
              "      <td>2</td>\n",
              "      <td>12/9/11 10:26</td>\n",
              "      <td>7.46</td>\n",
              "      <td>NaN</td>\n",
              "      <td>United Kingdom</td>\n",
              "    </tr>\n",
              "    <tr>\n",
              "      <th>541515</th>\n",
              "      <td>581498</td>\n",
              "      <td>82482</td>\n",
              "      <td>WOODEN PICTURE FRAME WHITE FINISH</td>\n",
              "      <td>4</td>\n",
              "      <td>12/9/11 10:26</td>\n",
              "      <td>4.96</td>\n",
              "      <td>NaN</td>\n",
              "      <td>United Kingdom</td>\n",
              "    </tr>\n",
              "    <tr>\n",
              "      <th>541516</th>\n",
              "      <td>581498</td>\n",
              "      <td>82552</td>\n",
              "      <td>WASHROOM METAL SIGN</td>\n",
              "      <td>1</td>\n",
              "      <td>12/9/11 10:26</td>\n",
              "      <td>2.46</td>\n",
              "      <td>NaN</td>\n",
              "      <td>United Kingdom</td>\n",
              "    </tr>\n",
              "    <tr>\n",
              "      <th>541517</th>\n",
              "      <td>581498</td>\n",
              "      <td>82580</td>\n",
              "      <td>BATHROOM METAL SIGN</td>\n",
              "      <td>1</td>\n",
              "      <td>12/9/11 10:26</td>\n",
              "      <td>1.25</td>\n",
              "      <td>NaN</td>\n",
              "      <td>United Kingdom</td>\n",
              "    </tr>\n",
              "    <tr>\n",
              "      <th>541518</th>\n",
              "      <td>581498</td>\n",
              "      <td>82581</td>\n",
              "      <td>TOILET METAL SIGN</td>\n",
              "      <td>1</td>\n",
              "      <td>12/9/11 10:26</td>\n",
              "      <td>1.25</td>\n",
              "      <td>NaN</td>\n",
              "      <td>United Kingdom</td>\n",
              "    </tr>\n",
              "    <tr>\n",
              "      <th>541519</th>\n",
              "      <td>581498</td>\n",
              "      <td>82600</td>\n",
              "      <td>N0 SINGING METAL SIGN</td>\n",
              "      <td>4</td>\n",
              "      <td>12/9/11 10:26</td>\n",
              "      <td>4.13</td>\n",
              "      <td>NaN</td>\n",
              "      <td>United Kingdom</td>\n",
              "    </tr>\n",
              "    <tr>\n",
              "      <th>541520</th>\n",
              "      <td>581498</td>\n",
              "      <td>84029E</td>\n",
              "      <td>RED WOOLLY HOTTIE WHITE HEART.</td>\n",
              "      <td>4</td>\n",
              "      <td>12/9/11 10:26</td>\n",
              "      <td>8.29</td>\n",
              "      <td>NaN</td>\n",
              "      <td>United Kingdom</td>\n",
              "    </tr>\n",
              "    <tr>\n",
              "      <th>541521</th>\n",
              "      <td>581498</td>\n",
              "      <td>84032A</td>\n",
              "      <td>CHARLIE+LOLA PINK HOT WATER BOTTLE</td>\n",
              "      <td>4</td>\n",
              "      <td>12/9/11 10:26</td>\n",
              "      <td>5.79</td>\n",
              "      <td>NaN</td>\n",
              "      <td>United Kingdom</td>\n",
              "    </tr>\n",
              "    <tr>\n",
              "      <th>541522</th>\n",
              "      <td>581498</td>\n",
              "      <td>84032B</td>\n",
              "      <td>CHARLIE + LOLA RED HOT WATER BOTTLE</td>\n",
              "      <td>3</td>\n",
              "      <td>12/9/11 10:26</td>\n",
              "      <td>3.29</td>\n",
              "      <td>NaN</td>\n",
              "      <td>United Kingdom</td>\n",
              "    </tr>\n",
              "    <tr>\n",
              "      <th>541523</th>\n",
              "      <td>581498</td>\n",
              "      <td>84375</td>\n",
              "      <td>SET OF 20 KIDS COOKIE CUTTERS</td>\n",
              "      <td>3</td>\n",
              "      <td>12/9/11 10:26</td>\n",
              "      <td>4.13</td>\n",
              "      <td>NaN</td>\n",
              "      <td>United Kingdom</td>\n",
              "    </tr>\n",
              "    <tr>\n",
              "      <th>541524</th>\n",
              "      <td>581498</td>\n",
              "      <td>84509a</td>\n",
              "      <td>SET OF 4 ENGLISH ROSE PLACEMATS</td>\n",
              "      <td>1</td>\n",
              "      <td>12/9/11 10:26</td>\n",
              "      <td>7.46</td>\n",
              "      <td>NaN</td>\n",
              "      <td>United Kingdom</td>\n",
              "    </tr>\n",
              "    <tr>\n",
              "      <th>541525</th>\n",
              "      <td>581498</td>\n",
              "      <td>84558a</td>\n",
              "      <td>3D DOG PICTURE PLAYING CARDS</td>\n",
              "      <td>1</td>\n",
              "      <td>12/9/11 10:26</td>\n",
              "      <td>5.79</td>\n",
              "      <td>NaN</td>\n",
              "      <td>United Kingdom</td>\n",
              "    </tr>\n",
              "    <tr>\n",
              "      <th>541526</th>\n",
              "      <td>581498</td>\n",
              "      <td>84832</td>\n",
              "      <td>ZINC WILLIE WINKIE  CANDLE STICK</td>\n",
              "      <td>26</td>\n",
              "      <td>12/9/11 10:26</td>\n",
              "      <td>1.63</td>\n",
              "      <td>NaN</td>\n",
              "      <td>United Kingdom</td>\n",
              "    </tr>\n",
              "    <tr>\n",
              "      <th>541527</th>\n",
              "      <td>581498</td>\n",
              "      <td>84968e</td>\n",
              "      <td>SET OF 16 VINTAGE BLACK CUTLERY</td>\n",
              "      <td>1</td>\n",
              "      <td>12/9/11 10:26</td>\n",
              "      <td>24.96</td>\n",
              "      <td>NaN</td>\n",
              "      <td>United Kingdom</td>\n",
              "    </tr>\n",
              "    <tr>\n",
              "      <th>541528</th>\n",
              "      <td>581498</td>\n",
              "      <td>84970s</td>\n",
              "      <td>HANGING HEART ZINC T-LIGHT HOLDER</td>\n",
              "      <td>1</td>\n",
              "      <td>12/9/11 10:26</td>\n",
              "      <td>2.08</td>\n",
              "      <td>NaN</td>\n",
              "      <td>United Kingdom</td>\n",
              "    </tr>\n",
              "    <tr>\n",
              "      <th>541529</th>\n",
              "      <td>581498</td>\n",
              "      <td>84997a</td>\n",
              "      <td>CHILDRENS CUTLERY POLKADOT GREEN</td>\n",
              "      <td>2</td>\n",
              "      <td>12/9/11 10:26</td>\n",
              "      <td>8.29</td>\n",
              "      <td>NaN</td>\n",
              "      <td>United Kingdom</td>\n",
              "    </tr>\n",
              "    <tr>\n",
              "      <th>541530</th>\n",
              "      <td>581498</td>\n",
              "      <td>84997b</td>\n",
              "      <td>CHILDRENS CUTLERY RETROSPOT RED</td>\n",
              "      <td>3</td>\n",
              "      <td>12/9/11 10:26</td>\n",
              "      <td>8.29</td>\n",
              "      <td>NaN</td>\n",
              "      <td>United Kingdom</td>\n",
              "    </tr>\n",
              "    <tr>\n",
              "      <th>541531</th>\n",
              "      <td>581498</td>\n",
              "      <td>84997d</td>\n",
              "      <td>CHILDRENS CUTLERY POLKADOT PINK</td>\n",
              "      <td>1</td>\n",
              "      <td>12/9/11 10:26</td>\n",
              "      <td>8.29</td>\n",
              "      <td>NaN</td>\n",
              "      <td>United Kingdom</td>\n",
              "    </tr>\n",
              "    <tr>\n",
              "      <th>541532</th>\n",
              "      <td>581498</td>\n",
              "      <td>85038</td>\n",
              "      <td>6 CHOCOLATE LOVE HEART T-LIGHTS</td>\n",
              "      <td>1</td>\n",
              "      <td>12/9/11 10:26</td>\n",
              "      <td>4.13</td>\n",
              "      <td>NaN</td>\n",
              "      <td>United Kingdom</td>\n",
              "    </tr>\n",
              "    <tr>\n",
              "      <th>541533</th>\n",
              "      <td>581498</td>\n",
              "      <td>85048</td>\n",
              "      <td>15CM CHRISTMAS GLASS BALL 20 LIGHTS</td>\n",
              "      <td>1</td>\n",
              "      <td>12/9/11 10:26</td>\n",
              "      <td>16.63</td>\n",
              "      <td>NaN</td>\n",
              "      <td>United Kingdom</td>\n",
              "    </tr>\n",
              "    <tr>\n",
              "      <th>541534</th>\n",
              "      <td>581498</td>\n",
              "      <td>85049a</td>\n",
              "      <td>TRADITIONAL CHRISTMAS RIBBONS</td>\n",
              "      <td>5</td>\n",
              "      <td>12/9/11 10:26</td>\n",
              "      <td>3.29</td>\n",
              "      <td>NaN</td>\n",
              "      <td>United Kingdom</td>\n",
              "    </tr>\n",
              "    <tr>\n",
              "      <th>541535</th>\n",
              "      <td>581498</td>\n",
              "      <td>85049e</td>\n",
              "      <td>SCANDINAVIAN REDS RIBBONS</td>\n",
              "      <td>4</td>\n",
              "      <td>12/9/11 10:26</td>\n",
              "      <td>3.29</td>\n",
              "      <td>NaN</td>\n",
              "      <td>United Kingdom</td>\n",
              "    </tr>\n",
              "    <tr>\n",
              "      <th>541536</th>\n",
              "      <td>581498</td>\n",
              "      <td>85099B</td>\n",
              "      <td>JUMBO BAG RED RETROSPOT</td>\n",
              "      <td>5</td>\n",
              "      <td>12/9/11 10:26</td>\n",
              "      <td>4.13</td>\n",
              "      <td>NaN</td>\n",
              "      <td>United Kingdom</td>\n",
              "    </tr>\n",
              "    <tr>\n",
              "      <th>541537</th>\n",
              "      <td>581498</td>\n",
              "      <td>85099C</td>\n",
              "      <td>JUMBO  BAG BAROQUE BLACK WHITE</td>\n",
              "      <td>4</td>\n",
              "      <td>12/9/11 10:26</td>\n",
              "      <td>4.13</td>\n",
              "      <td>NaN</td>\n",
              "      <td>United Kingdom</td>\n",
              "    </tr>\n",
              "    <tr>\n",
              "      <th>541538</th>\n",
              "      <td>581498</td>\n",
              "      <td>85150</td>\n",
              "      <td>LADIES &amp; GENTLEMEN METAL SIGN</td>\n",
              "      <td>1</td>\n",
              "      <td>12/9/11 10:26</td>\n",
              "      <td>4.96</td>\n",
              "      <td>NaN</td>\n",
              "      <td>United Kingdom</td>\n",
              "    </tr>\n",
              "    <tr>\n",
              "      <th>541539</th>\n",
              "      <td>581498</td>\n",
              "      <td>85174</td>\n",
              "      <td>S/4 CACTI CANDLES</td>\n",
              "      <td>1</td>\n",
              "      <td>12/9/11 10:26</td>\n",
              "      <td>10.79</td>\n",
              "      <td>NaN</td>\n",
              "      <td>United Kingdom</td>\n",
              "    </tr>\n",
              "    <tr>\n",
              "      <th>541540</th>\n",
              "      <td>581498</td>\n",
              "      <td>DOT</td>\n",
              "      <td>DOTCOM POSTAGE</td>\n",
              "      <td>1</td>\n",
              "      <td>12/9/11 10:26</td>\n",
              "      <td>1714.17</td>\n",
              "      <td>NaN</td>\n",
              "      <td>United Kingdom</td>\n",
              "    </tr>\n",
              "  </tbody>\n",
              "</table>\n",
              "<p>135080 rows × 8 columns</p>\n",
              "</div>"
            ],
            "text/plain": [
              "       InvoiceNo StockCode  ... CustomerID         Country\n",
              "622       536414     22139  ...        NaN  United Kingdom\n",
              "1443      536544     21773  ...        NaN  United Kingdom\n",
              "1444      536544     21774  ...        NaN  United Kingdom\n",
              "1445      536544     21786  ...        NaN  United Kingdom\n",
              "1446      536544     21787  ...        NaN  United Kingdom\n",
              "1447      536544     21790  ...        NaN  United Kingdom\n",
              "1448      536544     21791  ...        NaN  United Kingdom\n",
              "1449      536544     21801  ...        NaN  United Kingdom\n",
              "1450      536544     21802  ...        NaN  United Kingdom\n",
              "1451      536544     21803  ...        NaN  United Kingdom\n",
              "1452      536544     21809  ...        NaN  United Kingdom\n",
              "1453      536544     21810  ...        NaN  United Kingdom\n",
              "1454      536544     21811  ...        NaN  United Kingdom\n",
              "1455      536544     21821  ...        NaN  United Kingdom\n",
              "1456      536544     21822  ...        NaN  United Kingdom\n",
              "1457      536544     21823  ...        NaN  United Kingdom\n",
              "1458      536544     21844  ...        NaN  United Kingdom\n",
              "1459      536544     21851  ...        NaN  United Kingdom\n",
              "1460      536544     21870  ...        NaN  United Kingdom\n",
              "1461      536544     21871  ...        NaN  United Kingdom\n",
              "1462      536544     21874  ...        NaN  United Kingdom\n",
              "1463      536544     21879  ...        NaN  United Kingdom\n",
              "1464      536544     21884  ...        NaN  United Kingdom\n",
              "1465      536544     21888  ...        NaN  United Kingdom\n",
              "1466      536544     21889  ...        NaN  United Kingdom\n",
              "1467      536544     21892  ...        NaN  United Kingdom\n",
              "1468      536544     21894  ...        NaN  United Kingdom\n",
              "1469      536544     21911  ...        NaN  United Kingdom\n",
              "1470      536544     21912  ...        NaN  United Kingdom\n",
              "1471      536544     21913  ...        NaN  United Kingdom\n",
              "...          ...       ...  ...        ...             ...\n",
              "541511    581498     71053  ...        NaN  United Kingdom\n",
              "541512    581498    72349b  ...        NaN  United Kingdom\n",
              "541513    581498     79321  ...        NaN  United Kingdom\n",
              "541514    581498    82001s  ...        NaN  United Kingdom\n",
              "541515    581498     82482  ...        NaN  United Kingdom\n",
              "541516    581498     82552  ...        NaN  United Kingdom\n",
              "541517    581498     82580  ...        NaN  United Kingdom\n",
              "541518    581498     82581  ...        NaN  United Kingdom\n",
              "541519    581498     82600  ...        NaN  United Kingdom\n",
              "541520    581498    84029E  ...        NaN  United Kingdom\n",
              "541521    581498    84032A  ...        NaN  United Kingdom\n",
              "541522    581498    84032B  ...        NaN  United Kingdom\n",
              "541523    581498     84375  ...        NaN  United Kingdom\n",
              "541524    581498    84509a  ...        NaN  United Kingdom\n",
              "541525    581498    84558a  ...        NaN  United Kingdom\n",
              "541526    581498     84832  ...        NaN  United Kingdom\n",
              "541527    581498    84968e  ...        NaN  United Kingdom\n",
              "541528    581498    84970s  ...        NaN  United Kingdom\n",
              "541529    581498    84997a  ...        NaN  United Kingdom\n",
              "541530    581498    84997b  ...        NaN  United Kingdom\n",
              "541531    581498    84997d  ...        NaN  United Kingdom\n",
              "541532    581498     85038  ...        NaN  United Kingdom\n",
              "541533    581498     85048  ...        NaN  United Kingdom\n",
              "541534    581498    85049a  ...        NaN  United Kingdom\n",
              "541535    581498    85049e  ...        NaN  United Kingdom\n",
              "541536    581498    85099B  ...        NaN  United Kingdom\n",
              "541537    581498    85099C  ...        NaN  United Kingdom\n",
              "541538    581498     85150  ...        NaN  United Kingdom\n",
              "541539    581498     85174  ...        NaN  United Kingdom\n",
              "541540    581498       DOT  ...        NaN  United Kingdom\n",
              "\n",
              "[135080 rows x 8 columns]"
            ]
          },
          "metadata": {
            "tags": []
          },
          "execution_count": 6
        }
      ]
    },
    {
      "cell_type": "code",
      "metadata": {
        "id": "6eH4GTQN_O7J",
        "colab_type": "code",
        "colab": {
          "base_uri": "https://localhost:8080/",
          "height": 182
        },
        "outputId": "05ba2066-a250-42c4-9f86-1e31373d0f80"
      },
      "source": [
        "# Wow quite a lot of missing data in description and customerid, this will affect a lot when making analysist\n",
        "# For now we can do nothing but just drop all NAN value\n",
        "ordata_no_null = ordata.dropna(how= 'any')\n",
        "ordata_no_null.isnull().sum().sort_values(ascending=False)"
      ],
      "execution_count": 7,
      "outputs": [
        {
          "output_type": "execute_result",
          "data": {
            "text/plain": [
              "Country        0\n",
              "CustomerID     0\n",
              "UnitPrice      0\n",
              "InvoiceDate    0\n",
              "Quantity       0\n",
              "Description    0\n",
              "StockCode      0\n",
              "InvoiceNo      0\n",
              "dtype: int64"
            ]
          },
          "metadata": {
            "tags": []
          },
          "execution_count": 7
        }
      ]
    },
    {
      "cell_type": "markdown",
      "metadata": {
        "id": "OpAhltPeHaLR",
        "colab_type": "text"
      },
      "source": [
        "**Exclude negative Quatity entries**"
      ]
    },
    {
      "cell_type": "code",
      "metadata": {
        "id": "6olrlbeVAmQw",
        "colab_type": "code",
        "colab": {
          "base_uri": "https://localhost:8080/",
          "height": 300
        },
        "outputId": "68b28594-ab57-42eb-81b3-6aab887d24c7"
      },
      "source": [
        "# Hmmm negative quantity and price???\n",
        "# lets have some info first\n",
        "ordata_no_null.describe()"
      ],
      "execution_count": 8,
      "outputs": [
        {
          "output_type": "execute_result",
          "data": {
            "text/html": [
              "<div>\n",
              "<style scoped>\n",
              "    .dataframe tbody tr th:only-of-type {\n",
              "        vertical-align: middle;\n",
              "    }\n",
              "\n",
              "    .dataframe tbody tr th {\n",
              "        vertical-align: top;\n",
              "    }\n",
              "\n",
              "    .dataframe thead th {\n",
              "        text-align: right;\n",
              "    }\n",
              "</style>\n",
              "<table border=\"1\" class=\"dataframe\">\n",
              "  <thead>\n",
              "    <tr style=\"text-align: right;\">\n",
              "      <th></th>\n",
              "      <th>Quantity</th>\n",
              "      <th>UnitPrice</th>\n",
              "      <th>CustomerID</th>\n",
              "    </tr>\n",
              "  </thead>\n",
              "  <tbody>\n",
              "    <tr>\n",
              "      <th>count</th>\n",
              "      <td>406829.000000</td>\n",
              "      <td>406829.000000</td>\n",
              "      <td>406829.000000</td>\n",
              "    </tr>\n",
              "    <tr>\n",
              "      <th>mean</th>\n",
              "      <td>12.061303</td>\n",
              "      <td>3.460471</td>\n",
              "      <td>15287.690570</td>\n",
              "    </tr>\n",
              "    <tr>\n",
              "      <th>std</th>\n",
              "      <td>248.693370</td>\n",
              "      <td>69.315162</td>\n",
              "      <td>1713.600303</td>\n",
              "    </tr>\n",
              "    <tr>\n",
              "      <th>min</th>\n",
              "      <td>-80995.000000</td>\n",
              "      <td>0.000000</td>\n",
              "      <td>12346.000000</td>\n",
              "    </tr>\n",
              "    <tr>\n",
              "      <th>25%</th>\n",
              "      <td>2.000000</td>\n",
              "      <td>1.250000</td>\n",
              "      <td>13953.000000</td>\n",
              "    </tr>\n",
              "    <tr>\n",
              "      <th>50%</th>\n",
              "      <td>5.000000</td>\n",
              "      <td>1.950000</td>\n",
              "      <td>15152.000000</td>\n",
              "    </tr>\n",
              "    <tr>\n",
              "      <th>75%</th>\n",
              "      <td>12.000000</td>\n",
              "      <td>3.750000</td>\n",
              "      <td>16791.000000</td>\n",
              "    </tr>\n",
              "    <tr>\n",
              "      <th>max</th>\n",
              "      <td>80995.000000</td>\n",
              "      <td>38970.000000</td>\n",
              "      <td>18287.000000</td>\n",
              "    </tr>\n",
              "  </tbody>\n",
              "</table>\n",
              "</div>"
            ],
            "text/plain": [
              "            Quantity      UnitPrice     CustomerID\n",
              "count  406829.000000  406829.000000  406829.000000\n",
              "mean       12.061303       3.460471   15287.690570\n",
              "std       248.693370      69.315162    1713.600303\n",
              "min    -80995.000000       0.000000   12346.000000\n",
              "25%         2.000000       1.250000   13953.000000\n",
              "50%         5.000000       1.950000   15152.000000\n",
              "75%        12.000000       3.750000   16791.000000\n",
              "max     80995.000000   38970.000000   18287.000000"
            ]
          },
          "metadata": {
            "tags": []
          },
          "execution_count": 8
        }
      ]
    },
    {
      "cell_type": "code",
      "metadata": {
        "id": "jobwYyxoCESD",
        "colab_type": "code",
        "colab": {
          "base_uri": "https://localhost:8080/",
          "height": 206
        },
        "outputId": "387d50f1-c2bc-4af8-e9f1-2e1661cbbceb"
      },
      "source": [
        "# Wow, negative quantity and 0 price. Hmmm, that must be cancelled or returned ordered\n",
        "# Let's inspect more closely\n",
        "cancelled_orders = ordata_no_null[ordata_no_null['Quantity'] < 0]\n",
        "cancelled_orders.head()"
      ],
      "execution_count": 9,
      "outputs": [
        {
          "output_type": "execute_result",
          "data": {
            "text/html": [
              "<div>\n",
              "<style scoped>\n",
              "    .dataframe tbody tr th:only-of-type {\n",
              "        vertical-align: middle;\n",
              "    }\n",
              "\n",
              "    .dataframe tbody tr th {\n",
              "        vertical-align: top;\n",
              "    }\n",
              "\n",
              "    .dataframe thead th {\n",
              "        text-align: right;\n",
              "    }\n",
              "</style>\n",
              "<table border=\"1\" class=\"dataframe\">\n",
              "  <thead>\n",
              "    <tr style=\"text-align: right;\">\n",
              "      <th></th>\n",
              "      <th>InvoiceNo</th>\n",
              "      <th>StockCode</th>\n",
              "      <th>Description</th>\n",
              "      <th>Quantity</th>\n",
              "      <th>InvoiceDate</th>\n",
              "      <th>UnitPrice</th>\n",
              "      <th>CustomerID</th>\n",
              "      <th>Country</th>\n",
              "    </tr>\n",
              "  </thead>\n",
              "  <tbody>\n",
              "    <tr>\n",
              "      <th>141</th>\n",
              "      <td>C536379</td>\n",
              "      <td>D</td>\n",
              "      <td>Discount</td>\n",
              "      <td>-1</td>\n",
              "      <td>12/1/10 9:41</td>\n",
              "      <td>27.50</td>\n",
              "      <td>14527.0</td>\n",
              "      <td>United Kingdom</td>\n",
              "    </tr>\n",
              "    <tr>\n",
              "      <th>154</th>\n",
              "      <td>C536383</td>\n",
              "      <td>35004C</td>\n",
              "      <td>SET OF 3 COLOURED  FLYING DUCKS</td>\n",
              "      <td>-1</td>\n",
              "      <td>12/1/10 9:49</td>\n",
              "      <td>4.65</td>\n",
              "      <td>15311.0</td>\n",
              "      <td>United Kingdom</td>\n",
              "    </tr>\n",
              "    <tr>\n",
              "      <th>235</th>\n",
              "      <td>C536391</td>\n",
              "      <td>22556</td>\n",
              "      <td>PLASTERS IN TIN CIRCUS PARADE</td>\n",
              "      <td>-12</td>\n",
              "      <td>12/1/10 10:24</td>\n",
              "      <td>1.65</td>\n",
              "      <td>17548.0</td>\n",
              "      <td>United Kingdom</td>\n",
              "    </tr>\n",
              "    <tr>\n",
              "      <th>236</th>\n",
              "      <td>C536391</td>\n",
              "      <td>21984</td>\n",
              "      <td>PACK OF 12 PINK PAISLEY TISSUES</td>\n",
              "      <td>-24</td>\n",
              "      <td>12/1/10 10:24</td>\n",
              "      <td>0.29</td>\n",
              "      <td>17548.0</td>\n",
              "      <td>United Kingdom</td>\n",
              "    </tr>\n",
              "    <tr>\n",
              "      <th>237</th>\n",
              "      <td>C536391</td>\n",
              "      <td>21983</td>\n",
              "      <td>PACK OF 12 BLUE PAISLEY TISSUES</td>\n",
              "      <td>-24</td>\n",
              "      <td>12/1/10 10:24</td>\n",
              "      <td>0.29</td>\n",
              "      <td>17548.0</td>\n",
              "      <td>United Kingdom</td>\n",
              "    </tr>\n",
              "  </tbody>\n",
              "</table>\n",
              "</div>"
            ],
            "text/plain": [
              "    InvoiceNo StockCode  ... CustomerID         Country\n",
              "141   C536379         D  ...    14527.0  United Kingdom\n",
              "154   C536383    35004C  ...    15311.0  United Kingdom\n",
              "235   C536391     22556  ...    17548.0  United Kingdom\n",
              "236   C536391     21984  ...    17548.0  United Kingdom\n",
              "237   C536391     21983  ...    17548.0  United Kingdom\n",
              "\n",
              "[5 rows x 8 columns]"
            ]
          },
          "metadata": {
            "tags": []
          },
          "execution_count": 9
        }
      ]
    },
    {
      "cell_type": "code",
      "metadata": {
        "id": "vUOq_kWDDmDa",
        "colab_type": "code",
        "colab": {
          "base_uri": "https://localhost:8080/",
          "height": 35
        },
        "outputId": "fce120c5-0748-4297-c9ca-2f007b2bdf61"
      },
      "source": [
        "# Ho! Pretty interesting, all the InvoiceNo starts with C indicate for 'Cancelled'\n",
        "# Hmmmm, missing a lot of data already affect a lot on the data analysist, now we have this \"Cancelled order\" pain as well\n",
        "# Maybe a quick look how much cancelled orders compare to total order won't hurt\n",
        "print(str(len(cancelled_orders)/ordata_no_null['InvoiceNo'].nunique() * 100) + '%')"
      ],
      "execution_count": 10,
      "outputs": [
        {
          "output_type": "stream",
          "text": [
            "40.130689499774675%\n"
          ],
          "name": "stdout"
        }
      ]
    },
    {
      "cell_type": "code",
      "metadata": {
        "id": "5PNbp0htFNkK",
        "colab_type": "code",
        "colab": {}
      },
      "source": [
        "# Well well well, it won't be exaggerate to say half the number of orders are cancelled one\n",
        "# This number also not really true since we also delete a lot of records, but this still give us a nice insight of the data\n",
        "# We can really do an analysis and machine learning for cancelled orders predictions pattern and find a way to minimize that\n",
        "# Still, not our business as this is not included in the scope of this assignment and we severly lack aspects related to cancellation\n",
        "# Even Description feature can give us a little bit of insight but we are not provided any interesting info in it\n",
        "# Maybe i am wrong, but who knows???"
      ],
      "execution_count": 0,
      "outputs": []
    },
    {
      "cell_type": "code",
      "metadata": {
        "id": "71F-5PY-HZ6T",
        "colab_type": "code",
        "colab": {}
      },
      "source": [
        "ordata_exclude_negative_quantities = ordata_no_null[ordata_no_null.Quantity > 0]"
      ],
      "execution_count": 0,
      "outputs": []
    },
    {
      "cell_type": "markdown",
      "metadata": {
        "id": "s5idc5z2H1zJ",
        "colab_type": "text"
      },
      "source": [
        "**Exclude negative Price entries**"
      ]
    },
    {
      "cell_type": "code",
      "metadata": {
        "id": "_8OdtEVFH1fr",
        "colab_type": "code",
        "colab": {}
      },
      "source": [
        "ordata_updated = ordata_exclude_negative_quantities[ordata_exclude_negative_quantities.UnitPrice > 0]"
      ],
      "execution_count": 0,
      "outputs": []
    },
    {
      "cell_type": "markdown",
      "metadata": {
        "id": "Ikd1t-v3Pm17",
        "colab_type": "text"
      },
      "source": [
        "### Step 3 - EDA"
      ]
    },
    {
      "cell_type": "markdown",
      "metadata": {
        "id": "-T3iojz1If_r",
        "colab_type": "text"
      },
      "source": [
        "**The customer with the highest number of orders comes from the United Kingdom (UK)**"
      ]
    },
    {
      "cell_type": "code",
      "metadata": {
        "id": "qIUoWtlPIhxJ",
        "colab_type": "code",
        "outputId": "bd486865-ddd5-46fb-90cd-6a034b3e309d",
        "colab": {
          "base_uri": "https://localhost:8080/",
          "height": 206
        }
      },
      "source": [
        "# Your code here\n",
        "# retail_uk = retail_df[retail_df['Country']=='United Kingdom']\n",
        "uk_data = ordata_updated[ordata_updated['Country'] == 'United Kingdom']\n",
        "num_cus = uk_data.groupby('CustomerID',as_index= False)['Quantity'].sum().sort_values(by = 'Quantity', ascending = False)\n",
        "num_cus.head()"
      ],
      "execution_count": 14,
      "outputs": [
        {
          "output_type": "execute_result",
          "data": {
            "text/html": [
              "<div>\n",
              "<style scoped>\n",
              "    .dataframe tbody tr th:only-of-type {\n",
              "        vertical-align: middle;\n",
              "    }\n",
              "\n",
              "    .dataframe tbody tr th {\n",
              "        vertical-align: top;\n",
              "    }\n",
              "\n",
              "    .dataframe thead th {\n",
              "        text-align: right;\n",
              "    }\n",
              "</style>\n",
              "<table border=\"1\" class=\"dataframe\">\n",
              "  <thead>\n",
              "    <tr style=\"text-align: right;\">\n",
              "      <th></th>\n",
              "      <th>CustomerID</th>\n",
              "      <th>Quantity</th>\n",
              "    </tr>\n",
              "  </thead>\n",
              "  <tbody>\n",
              "    <tr>\n",
              "      <th>2598</th>\n",
              "      <td>16446.0</td>\n",
              "      <td>80997</td>\n",
              "    </tr>\n",
              "    <tr>\n",
              "      <th>0</th>\n",
              "      <td>12346.0</td>\n",
              "      <td>74215</td>\n",
              "    </tr>\n",
              "    <tr>\n",
              "      <th>3314</th>\n",
              "      <td>17450.0</td>\n",
              "      <td>69993</td>\n",
              "    </tr>\n",
              "    <tr>\n",
              "      <th>3356</th>\n",
              "      <td>17511.0</td>\n",
              "      <td>64549</td>\n",
              "    </tr>\n",
              "    <tr>\n",
              "      <th>3783</th>\n",
              "      <td>18102.0</td>\n",
              "      <td>64124</td>\n",
              "    </tr>\n",
              "  </tbody>\n",
              "</table>\n",
              "</div>"
            ],
            "text/plain": [
              "      CustomerID  Quantity\n",
              "2598     16446.0     80997\n",
              "0        12346.0     74215\n",
              "3314     17450.0     69993\n",
              "3356     17511.0     64549\n",
              "3783     18102.0     64124"
            ]
          },
          "metadata": {
            "tags": []
          },
          "execution_count": 14
        }
      ]
    },
    {
      "cell_type": "markdown",
      "metadata": {
        "id": "9yUfXWelIiTg",
        "colab_type": "text"
      },
      "source": [
        "**The customer with the highest money spent on purchases comes from Netherlands**"
      ]
    },
    {
      "cell_type": "code",
      "metadata": {
        "id": "qCN_rIThJDRj",
        "colab_type": "code",
        "outputId": "53a48e54-4924-46af-f1a7-c777d70dc842",
        "colab": {
          "base_uri": "https://localhost:8080/",
          "height": 206
        }
      },
      "source": [
        "# Your code here\n",
        "# amount_spent = quantity * unit_price\n",
        "# lets create new column\n",
        "ordata_updated['AmountSpent'] = ordata_updated.apply(lambda row: row['Quantity'] * row['UnitPrice'], axis = 1)\n",
        "nether_data = ordata_updated[ordata_updated['Country'] == 'Netherlands']\n",
        "highest_spent = nether_data.sort_values(by = 'AmountSpent', ascending = False)\n",
        "highest_spent.head()"
      ],
      "execution_count": 15,
      "outputs": [
        {
          "output_type": "execute_result",
          "data": {
            "text/html": [
              "<div>\n",
              "<style scoped>\n",
              "    .dataframe tbody tr th:only-of-type {\n",
              "        vertical-align: middle;\n",
              "    }\n",
              "\n",
              "    .dataframe tbody tr th {\n",
              "        vertical-align: top;\n",
              "    }\n",
              "\n",
              "    .dataframe thead th {\n",
              "        text-align: right;\n",
              "    }\n",
              "</style>\n",
              "<table border=\"1\" class=\"dataframe\">\n",
              "  <thead>\n",
              "    <tr style=\"text-align: right;\">\n",
              "      <th></th>\n",
              "      <th>InvoiceNo</th>\n",
              "      <th>StockCode</th>\n",
              "      <th>Description</th>\n",
              "      <th>Quantity</th>\n",
              "      <th>InvoiceDate</th>\n",
              "      <th>UnitPrice</th>\n",
              "      <th>CustomerID</th>\n",
              "      <th>Country</th>\n",
              "      <th>AmountSpent</th>\n",
              "    </tr>\n",
              "  </thead>\n",
              "  <tbody>\n",
              "    <tr>\n",
              "      <th>421601</th>\n",
              "      <td>573003</td>\n",
              "      <td>23084</td>\n",
              "      <td>RABBIT NIGHT LIGHT</td>\n",
              "      <td>2400</td>\n",
              "      <td>10/27/11 12:11</td>\n",
              "      <td>2.08</td>\n",
              "      <td>14646.0</td>\n",
              "      <td>Netherlands</td>\n",
              "      <td>4992.00</td>\n",
              "    </tr>\n",
              "    <tr>\n",
              "      <th>534952</th>\n",
              "      <td>581175</td>\n",
              "      <td>23084</td>\n",
              "      <td>RABBIT NIGHT LIGHT</td>\n",
              "      <td>1440</td>\n",
              "      <td>12/7/11 15:16</td>\n",
              "      <td>1.79</td>\n",
              "      <td>14646.0</td>\n",
              "      <td>Netherlands</td>\n",
              "      <td>2577.60</td>\n",
              "    </tr>\n",
              "    <tr>\n",
              "      <th>204198</th>\n",
              "      <td>554642</td>\n",
              "      <td>22243</td>\n",
              "      <td>5 HOOK HANGER RED MAGIC TOADSTOOL</td>\n",
              "      <td>960</td>\n",
              "      <td>5/25/11 12:19</td>\n",
              "      <td>1.45</td>\n",
              "      <td>14646.0</td>\n",
              "      <td>Netherlands</td>\n",
              "      <td>1392.00</td>\n",
              "    </tr>\n",
              "    <tr>\n",
              "      <th>409248</th>\n",
              "      <td>572052</td>\n",
              "      <td>22595</td>\n",
              "      <td>GINGHAM HEART DECORATION</td>\n",
              "      <td>1728</td>\n",
              "      <td>10/20/11 12:26</td>\n",
              "      <td>0.72</td>\n",
              "      <td>14646.0</td>\n",
              "      <td>Netherlands</td>\n",
              "      <td>1244.16</td>\n",
              "    </tr>\n",
              "    <tr>\n",
              "      <th>137027</th>\n",
              "      <td>548011</td>\n",
              "      <td>22630</td>\n",
              "      <td>DOLLY GIRL LUNCH BOX</td>\n",
              "      <td>640</td>\n",
              "      <td>3/29/11 11:14</td>\n",
              "      <td>1.65</td>\n",
              "      <td>14646.0</td>\n",
              "      <td>Netherlands</td>\n",
              "      <td>1056.00</td>\n",
              "    </tr>\n",
              "  </tbody>\n",
              "</table>\n",
              "</div>"
            ],
            "text/plain": [
              "       InvoiceNo StockCode  ...      Country  AmountSpent\n",
              "421601    573003     23084  ...  Netherlands      4992.00\n",
              "534952    581175     23084  ...  Netherlands      2577.60\n",
              "204198    554642     22243  ...  Netherlands      1392.00\n",
              "409248    572052     22595  ...  Netherlands      1244.16\n",
              "137027    548011     22630  ...  Netherlands      1056.00\n",
              "\n",
              "[5 rows x 9 columns]"
            ]
          },
          "metadata": {
            "tags": []
          },
          "execution_count": 15
        }
      ]
    },
    {
      "cell_type": "markdown",
      "metadata": {
        "id": "UcCxS85hIwLb",
        "colab_type": "text"
      },
      "source": [
        "**On which year had the highest sales?**"
      ]
    },
    {
      "cell_type": "code",
      "metadata": {
        "id": "i-7RsisUI_gc",
        "colab_type": "code",
        "outputId": "bde8d19d-d346-4401-fb6b-f7cce342f9c9",
        "colab": {
          "base_uri": "https://localhost:8080/",
          "height": 112
        }
      },
      "source": [
        "# Your code here\n",
        "# let's convert to datetime format first \n",
        "ordata_updated['InvoiceDate']=pd.to_datetime(ordata_updated['InvoiceDate'], format='%m/%d/%y %H:%M')\n",
        "# let's add new column year\n",
        "# There's a new grouper functions to group date in the new version of pandas, but somehow i can't seem to use it without errors\n",
        "# let's just stick with good old traditional way\n",
        "ordata_updated['Year'] = ordata_updated['InvoiceDate'].dt.year\n",
        "highest_sale = ordata_updated.groupby(ordata_updated['Year'], as_index= False)['AmountSpent'].sum().sort_values(by='AmountSpent', ascending = 'False')\n",
        "highest_sale"
      ],
      "execution_count": 25,
      "outputs": [
        {
          "output_type": "execute_result",
          "data": {
            "text/html": [
              "<div>\n",
              "<style scoped>\n",
              "    .dataframe tbody tr th:only-of-type {\n",
              "        vertical-align: middle;\n",
              "    }\n",
              "\n",
              "    .dataframe tbody tr th {\n",
              "        vertical-align: top;\n",
              "    }\n",
              "\n",
              "    .dataframe thead th {\n",
              "        text-align: right;\n",
              "    }\n",
              "</style>\n",
              "<table border=\"1\" class=\"dataframe\">\n",
              "  <thead>\n",
              "    <tr style=\"text-align: right;\">\n",
              "      <th></th>\n",
              "      <th>Year</th>\n",
              "      <th>AmountSpent</th>\n",
              "    </tr>\n",
              "  </thead>\n",
              "  <tbody>\n",
              "    <tr>\n",
              "      <th>0</th>\n",
              "      <td>2010</td>\n",
              "      <td>5.727139e+05</td>\n",
              "    </tr>\n",
              "    <tr>\n",
              "      <th>1</th>\n",
              "      <td>2011</td>\n",
              "      <td>8.338694e+06</td>\n",
              "    </tr>\n",
              "  </tbody>\n",
              "</table>\n",
              "</div>"
            ],
            "text/plain": [
              "   Year   AmountSpent\n",
              "0  2010  5.727139e+05\n",
              "1  2011  8.338694e+06"
            ]
          },
          "metadata": {
            "tags": []
          },
          "execution_count": 25
        }
      ]
    },
    {
      "cell_type": "markdown",
      "metadata": {
        "id": "W-IKvzruKHXb",
        "colab_type": "text"
      },
      "source": [
        "**How many orders (per hour)?**"
      ]
    },
    {
      "cell_type": "code",
      "metadata": {
        "id": "RHS5ridWKQ4u",
        "colab_type": "code",
        "outputId": "f478016f-8c79-48f6-b480-4ca3c6c60db3",
        "colab": {
          "base_uri": "https://localhost:8080/",
          "height": 343
        }
      },
      "source": [
        "# let's add new column hour\n",
        "ordata_updated['Hour'] = ordata_updated['InvoiceDate'].dt.hour\n",
        "ordata_updated.groupby('InvoiceNo')['Hour'].unique().value_counts().sort_index()"
      ],
      "execution_count": 17,
      "outputs": [
        {
          "output_type": "error",
          "ename": "ValueError",
          "evalue": "ignored",
          "traceback": [
            "\u001b[0;31m---------------------------------------------------------------------------\u001b[0m",
            "\u001b[0;31mValueError\u001b[0m                                Traceback (most recent call last)",
            "\u001b[0;32m<ipython-input-17-2df4fb1659e9>\u001b[0m in \u001b[0;36m<module>\u001b[0;34m()\u001b[0m\n\u001b[1;32m      1\u001b[0m \u001b[0mordata_updated\u001b[0m\u001b[0;34m[\u001b[0m\u001b[0;34m'Hour'\u001b[0m\u001b[0;34m]\u001b[0m \u001b[0;34m=\u001b[0m \u001b[0mordata_updated\u001b[0m\u001b[0;34m[\u001b[0m\u001b[0;34m'InvoiceDate'\u001b[0m\u001b[0;34m]\u001b[0m\u001b[0;34m.\u001b[0m\u001b[0mdt\u001b[0m\u001b[0;34m.\u001b[0m\u001b[0mhour\u001b[0m\u001b[0;34m\u001b[0m\u001b[0;34m\u001b[0m\u001b[0m\n\u001b[0;32m----> 2\u001b[0;31m \u001b[0mordata_updated\u001b[0m\u001b[0;34m.\u001b[0m\u001b[0mgroupby\u001b[0m\u001b[0;34m(\u001b[0m\u001b[0;34m'InvoiceNo'\u001b[0m\u001b[0;34m)\u001b[0m\u001b[0;34m[\u001b[0m\u001b[0;34m'Hour'\u001b[0m\u001b[0;34m]\u001b[0m\u001b[0;34m.\u001b[0m\u001b[0munique\u001b[0m\u001b[0;34m(\u001b[0m\u001b[0;34m)\u001b[0m\u001b[0;34m.\u001b[0m\u001b[0mvalue_counts\u001b[0m\u001b[0;34m(\u001b[0m\u001b[0;34m)\u001b[0m\u001b[0;34m.\u001b[0m\u001b[0msort_index\u001b[0m\u001b[0;34m(\u001b[0m\u001b[0;34m)\u001b[0m\u001b[0;34m\u001b[0m\u001b[0;34m\u001b[0m\u001b[0m\n\u001b[0m",
            "\u001b[0;32m/usr/local/lib/python3.6/dist-packages/pandas/core/series.py\u001b[0m in \u001b[0;36msort_index\u001b[0;34m(self, axis, level, ascending, inplace, kind, na_position, sort_remaining)\u001b[0m\n\u001b[1;32m   2972\u001b[0m \u001b[0;34m\u001b[0m\u001b[0m\n\u001b[1;32m   2973\u001b[0m             indexer = nargsort(index, kind=kind, ascending=ascending,\n\u001b[0;32m-> 2974\u001b[0;31m                                na_position=na_position)\n\u001b[0m\u001b[1;32m   2975\u001b[0m \u001b[0;34m\u001b[0m\u001b[0m\n\u001b[1;32m   2976\u001b[0m         \u001b[0mindexer\u001b[0m \u001b[0;34m=\u001b[0m \u001b[0mensure_platform_int\u001b[0m\u001b[0;34m(\u001b[0m\u001b[0mindexer\u001b[0m\u001b[0;34m)\u001b[0m\u001b[0;34m\u001b[0m\u001b[0;34m\u001b[0m\u001b[0m\n",
            "\u001b[0;32m/usr/local/lib/python3.6/dist-packages/pandas/core/sorting.py\u001b[0m in \u001b[0;36mnargsort\u001b[0;34m(items, kind, ascending, na_position)\u001b[0m\n\u001b[1;32m    271\u001b[0m         \u001b[0mnon_nans\u001b[0m \u001b[0;34m=\u001b[0m \u001b[0mnon_nans\u001b[0m\u001b[0;34m[\u001b[0m\u001b[0;34m:\u001b[0m\u001b[0;34m:\u001b[0m\u001b[0;34m-\u001b[0m\u001b[0;36m1\u001b[0m\u001b[0;34m]\u001b[0m\u001b[0;34m\u001b[0m\u001b[0;34m\u001b[0m\u001b[0m\n\u001b[1;32m    272\u001b[0m         \u001b[0mnon_nan_idx\u001b[0m \u001b[0;34m=\u001b[0m \u001b[0mnon_nan_idx\u001b[0m\u001b[0;34m[\u001b[0m\u001b[0;34m:\u001b[0m\u001b[0;34m:\u001b[0m\u001b[0;34m-\u001b[0m\u001b[0;36m1\u001b[0m\u001b[0;34m]\u001b[0m\u001b[0;34m\u001b[0m\u001b[0;34m\u001b[0m\u001b[0m\n\u001b[0;32m--> 273\u001b[0;31m     \u001b[0mindexer\u001b[0m \u001b[0;34m=\u001b[0m \u001b[0mnon_nan_idx\u001b[0m\u001b[0;34m[\u001b[0m\u001b[0mnon_nans\u001b[0m\u001b[0;34m.\u001b[0m\u001b[0margsort\u001b[0m\u001b[0;34m(\u001b[0m\u001b[0mkind\u001b[0m\u001b[0;34m=\u001b[0m\u001b[0mkind\u001b[0m\u001b[0;34m)\u001b[0m\u001b[0;34m]\u001b[0m\u001b[0;34m\u001b[0m\u001b[0;34m\u001b[0m\u001b[0m\n\u001b[0m\u001b[1;32m    274\u001b[0m     \u001b[0;32mif\u001b[0m \u001b[0;32mnot\u001b[0m \u001b[0mascending\u001b[0m\u001b[0;34m:\u001b[0m\u001b[0;34m\u001b[0m\u001b[0;34m\u001b[0m\u001b[0m\n\u001b[1;32m    275\u001b[0m         \u001b[0mindexer\u001b[0m \u001b[0;34m=\u001b[0m \u001b[0mindexer\u001b[0m\u001b[0;34m[\u001b[0m\u001b[0;34m:\u001b[0m\u001b[0;34m:\u001b[0m\u001b[0;34m-\u001b[0m\u001b[0;36m1\u001b[0m\u001b[0;34m]\u001b[0m\u001b[0;34m\u001b[0m\u001b[0;34m\u001b[0m\u001b[0m\n",
            "\u001b[0;31mValueError\u001b[0m: The truth value of an array with more than one element is ambiguous. Use a.any() or a.all()"
          ]
        }
      ]
    },
    {
      "cell_type": "code",
      "metadata": {
        "id": "gpqG5r6KIQv9",
        "colab_type": "code",
        "colab": {
          "base_uri": "https://localhost:8080/",
          "height": 329
        },
        "outputId": "4261dcfe-e639-45b7-e3e3-650ec2e1f939"
      },
      "source": [
        "# Wait, What???\n",
        "# Hmmm, let's make some inspection\n",
        "ordata_updated.groupby('InvoiceNo')['Hour'].unique().value_counts()"
      ],
      "execution_count": 18,
      "outputs": [
        {
          "output_type": "execute_result",
          "data": {
            "text/plain": [
              "[12]        3129\n",
              "[13]        2636\n",
              "[11]        2276\n",
              "[14]        2274\n",
              "[10]        2226\n",
              "[15]        2037\n",
              "[9]         1393\n",
              "[16]        1100\n",
              "[8]          555\n",
              "[17]         544\n",
              "[18]         169\n",
              "[19]         144\n",
              "[7]           29\n",
              "[20]          18\n",
              "[6]            1\n",
              "[11, 12]       1\n",
              "Name: Hour, dtype: int64"
            ]
          },
          "metadata": {
            "tags": []
          },
          "execution_count": 18
        }
      ]
    },
    {
      "cell_type": "code",
      "metadata": {
        "id": "r1aVRn3VIkcx",
        "colab_type": "code",
        "colab": {
          "base_uri": "https://localhost:8080/",
          "height": 311
        },
        "outputId": "faac62c4-f282-439d-a9de-942327f8afe2"
      },
      "source": [
        "# Now that's weird, the last row has 2 values???\n",
        "# Since it not affect much, lets just ignore it right away\n",
        "ordata_updated.groupby('InvoiceNo')['Hour'].unique().value_counts().iloc[:-1].sort_index()"
      ],
      "execution_count": 19,
      "outputs": [
        {
          "output_type": "execute_result",
          "data": {
            "text/plain": [
              "[6]        1\n",
              "[7]       29\n",
              "[8]      555\n",
              "[9]     1393\n",
              "[10]    2226\n",
              "[11]    2276\n",
              "[12]    3129\n",
              "[13]    2636\n",
              "[14]    2274\n",
              "[15]    2037\n",
              "[16]    1100\n",
              "[17]     544\n",
              "[18]     169\n",
              "[19]     144\n",
              "[20]      18\n",
              "Name: Hour, dtype: int64"
            ]
          },
          "metadata": {
            "tags": []
          },
          "execution_count": 19
        }
      ]
    },
    {
      "cell_type": "markdown",
      "metadata": {
        "id": "dqCZUmx0KKfS",
        "colab_type": "text"
      },
      "source": [
        "**Make a plot about number of orders per hour**"
      ]
    },
    {
      "cell_type": "code",
      "metadata": {
        "id": "-KPgD51AKKE6",
        "colab_type": "code",
        "outputId": "fd2d8d18-5846-4bb4-815e-428aeb374d1c",
        "colab": {
          "base_uri": "https://localhost:8080/",
          "height": 416
        }
      },
      "source": [
        "# As much as i want to use barplot of seaborn\n",
        "# However, it require 2 axis with dataframe\n",
        "# We only want to plot with current data\n",
        "# let's go back with plt\n",
        "color = sns.color_palette()\n",
        "ax = ordata_updated.groupby('InvoiceNo')['Hour'].unique().value_counts().iloc[:-1].sort_index().plot('bar',color=color[0],figsize=(15,6))\n",
        "ax.set_xlabel('Hour',fontsize=15)\n",
        "ax.set_ylabel('Number of Orders',fontsize=15)\n",
        "ax.set_title('Number of orders for different Hours',fontsize=15)\n",
        "ax.set_xticklabels(range(6,21), rotation='horizontal', fontsize=15)\n",
        "plt.show()"
      ],
      "execution_count": 20,
      "outputs": [
        {
          "output_type": "display_data",
          "data": {
            "image/png": "[encoded data removed]",
            "text/plain": [
              "<Figure size 1080x432 with 1 Axes>"
            ]
          },
          "metadata": {
            "tags": []
          }
        }
      ]
    },
    {
      "cell_type": "markdown",
      "metadata": {
        "colab_type": "text",
        "id": "-8ZwTvS6L0vS"
      },
      "source": [
        "**How many orders (per month)?**"
      ]
    },
    {
      "cell_type": "code",
      "metadata": {
        "colab_type": "code",
        "id": "NeOp_6a3L0vX",
        "outputId": "294bd7c4-ec8a-4ba8-d671-8f84769ce08e",
        "colab": {
          "base_uri": "https://localhost:8080/",
          "height": 256
        }
      },
      "source": [
        "# let's add new column month\n",
        "ordata_updated['Month'] = ordata_updated['InvoiceDate'].dt.month\n",
        "ordata_updated.groupby('InvoiceNo')['Month'].unique().value_counts().sort_index()"
      ],
      "execution_count": 21,
      "outputs": [
        {
          "output_type": "execute_result",
          "data": {
            "text/plain": [
              "[1]      987\n",
              "[2]      997\n",
              "[3]     1321\n",
              "[4]     1149\n",
              "[5]     1555\n",
              "[6]     1393\n",
              "[7]     1331\n",
              "[8]     1280\n",
              "[9]     1755\n",
              "[10]    1929\n",
              "[11]    2657\n",
              "[12]    2178\n",
              "Name: Month, dtype: int64"
            ]
          },
          "metadata": {
            "tags": []
          },
          "execution_count": 21
        }
      ]
    },
    {
      "cell_type": "markdown",
      "metadata": {
        "colab_type": "text",
        "id": "sOYrMUczL0vb"
      },
      "source": [
        "**Make a plot about number of orders per month**"
      ]
    },
    {
      "cell_type": "code",
      "metadata": {
        "id": "e7RJQ5MbL4cY",
        "colab_type": "code",
        "outputId": "8e48e6c5-9fc4-444e-bf51-8583585087c8",
        "colab": {
          "base_uri": "https://localhost:8080/",
          "height": 414
        }
      },
      "source": [
        "ax = ordata_updated.groupby('InvoiceNo')['Month'].unique().value_counts().sort_index().plot('bar',color=color[1],figsize=(15,6))\n",
        "ax.set_xlabel('Month',fontsize=15)\n",
        "ax.set_ylabel('Number of Orders',fontsize=15)\n",
        "ax.set_title('Number of orders for different Months',fontsize=15)\n",
        "ax.set_xticklabels(('Jan', 'Feb', 'Mar', 'Apr', 'May', 'Jun', 'Jul', 'Aug', 'Sep', 'Oct', 'Nov', 'Dec'), rotation='horizontal', fontsize=13)\n",
        "plt.show()"
      ],
      "execution_count": 22,
      "outputs": [
        {
          "output_type": "display_data",
          "data": {
            "image/png": "[encoded data removed]",
            "text/plain": [
              "<Figure size 1080x432 with 1 Axes>"
            ]
          },
          "metadata": {
            "tags": []
          }
        }
      ]
    },
    {
      "cell_type": "markdown",
      "metadata": {
        "id": "E3eeyQeBLd6e",
        "colab_type": "text"
      },
      "source": [
        "**Top 10 items most sales**"
      ]
    },
    {
      "cell_type": "code",
      "metadata": {
        "id": "4trjB9ZjLhEv",
        "colab_type": "code",
        "colab": {
          "base_uri": "https://localhost:8080/",
          "height": 363
        },
        "outputId": "6a583d7e-db63-4b2b-cb7c-75f3de035fff"
      },
      "source": [
        "top_items = ordata_updated.groupby(by=['CustomerID', 'Country'], as_index = False)['StockCode'].count()\n",
        "top_items.sort_values(by = 'StockCode', ascending = False).head(10)"
      ],
      "execution_count": 23,
      "outputs": [
        {
          "output_type": "execute_result",
          "data": {
            "text/html": [
              "<div>\n",
              "<style scoped>\n",
              "    .dataframe tbody tr th:only-of-type {\n",
              "        vertical-align: middle;\n",
              "    }\n",
              "\n",
              "    .dataframe tbody tr th {\n",
              "        vertical-align: top;\n",
              "    }\n",
              "\n",
              "    .dataframe thead th {\n",
              "        text-align: right;\n",
              "    }\n",
              "</style>\n",
              "<table border=\"1\" class=\"dataframe\">\n",
              "  <thead>\n",
              "    <tr style=\"text-align: right;\">\n",
              "      <th></th>\n",
              "      <th>CustomerID</th>\n",
              "      <th>Country</th>\n",
              "      <th>StockCode</th>\n",
              "    </tr>\n",
              "  </thead>\n",
              "  <tbody>\n",
              "    <tr>\n",
              "      <th>4018</th>\n",
              "      <td>17841.0</td>\n",
              "      <td>United Kingdom</td>\n",
              "      <td>7847</td>\n",
              "    </tr>\n",
              "    <tr>\n",
              "      <th>1887</th>\n",
              "      <td>14911.0</td>\n",
              "      <td>EIRE</td>\n",
              "      <td>5675</td>\n",
              "    </tr>\n",
              "    <tr>\n",
              "      <th>1297</th>\n",
              "      <td>14096.0</td>\n",
              "      <td>United Kingdom</td>\n",
              "      <td>5111</td>\n",
              "    </tr>\n",
              "    <tr>\n",
              "      <th>334</th>\n",
              "      <td>12748.0</td>\n",
              "      <td>United Kingdom</td>\n",
              "      <td>4595</td>\n",
              "    </tr>\n",
              "    <tr>\n",
              "      <th>1669</th>\n",
              "      <td>14606.0</td>\n",
              "      <td>United Kingdom</td>\n",
              "      <td>2700</td>\n",
              "    </tr>\n",
              "    <tr>\n",
              "      <th>2184</th>\n",
              "      <td>15311.0</td>\n",
              "      <td>United Kingdom</td>\n",
              "      <td>2379</td>\n",
              "    </tr>\n",
              "    <tr>\n",
              "      <th>1697</th>\n",
              "      <td>14646.0</td>\n",
              "      <td>Netherlands</td>\n",
              "      <td>2076</td>\n",
              "    </tr>\n",
              "    <tr>\n",
              "      <th>570</th>\n",
              "      <td>13089.0</td>\n",
              "      <td>United Kingdom</td>\n",
              "      <td>1818</td>\n",
              "    </tr>\n",
              "    <tr>\n",
              "      <th>698</th>\n",
              "      <td>13263.0</td>\n",
              "      <td>United Kingdom</td>\n",
              "      <td>1677</td>\n",
              "    </tr>\n",
              "    <tr>\n",
              "      <th>1442</th>\n",
              "      <td>14298.0</td>\n",
              "      <td>United Kingdom</td>\n",
              "      <td>1637</td>\n",
              "    </tr>\n",
              "  </tbody>\n",
              "</table>\n",
              "</div>"
            ],
            "text/plain": [
              "      CustomerID         Country  StockCode\n",
              "4018     17841.0  United Kingdom       7847\n",
              "1887     14911.0            EIRE       5675\n",
              "1297     14096.0  United Kingdom       5111\n",
              "334      12748.0  United Kingdom       4595\n",
              "1669     14606.0  United Kingdom       2700\n",
              "2184     15311.0  United Kingdom       2379\n",
              "1697     14646.0     Netherlands       2076\n",
              "570      13089.0  United Kingdom       1818\n",
              "698      13263.0  United Kingdom       1677\n",
              "1442     14298.0  United Kingdom       1637"
            ]
          },
          "metadata": {
            "tags": []
          },
          "execution_count": 23
        }
      ]
    },
    {
      "cell_type": "markdown",
      "metadata": {
        "id": "ggak_TMtLh5o",
        "colab_type": "text"
      },
      "source": [
        ""
      ]
    },
    {
      "cell_type": "markdown",
      "metadata": {
        "id": "-dEBLw1uPm1-",
        "colab_type": "text"
      },
      "source": [
        "**Create a histogram with the 10 countries that have the most 'Quantity' ordered except UK**"
      ]
    },
    {
      "cell_type": "code",
      "metadata": {
        "id": "_N-UF331Pm1-",
        "colab_type": "code",
        "colab": {
          "base_uri": "https://localhost:8080/",
          "height": 287
        },
        "outputId": "c1ac5ef3-6f68-45b4-bd80-485657fcfbc1"
      },
      "source": [
        "# Your code here\n",
        "top_quantity = ordata_updated.groupby(by = 'Country')['Quantity'].count().sort_values(ascending = False)\n",
        "del top_quantity['United Kingdom']\n",
        "top_quantity.head(10).hist()\n",
        "\n",
        "# What can you tell about this?\n",
        "# Well only 4 significant contries show up here"
      ],
      "execution_count": 24,
      "outputs": [
        {
          "output_type": "execute_result",
          "data": {
            "text/plain": [
              "<matplotlib.axes._subplots.AxesSubplot at 0x7f5d39159358>"
            ]
          },
          "metadata": {
            "tags": []
          },
          "execution_count": 24
        },
        {
          "output_type": "display_data",
          "data": {
            "image/png": "[encoded data removed]",
            "text/plain": [
              "<Figure size 432x288 with 1 Axes>"
            ]
          },
          "metadata": {
            "tags": []
          }
        }
      ]
    },
    {
      "cell_type": "markdown",
      "metadata": {
        "id": "MoBgPjDiwhdV",
        "colab_type": "text"
      },
      "source": [
        "### You are awesome!!"
      ]
    }
  ]
}